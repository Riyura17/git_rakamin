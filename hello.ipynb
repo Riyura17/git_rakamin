{
 "cells": [
  {
   "cell_type": "code",
   "execution_count": 1,
   "id": "764ba060-8c8d-4522-9194-322567b07a61",
   "metadata": {},
   "outputs": [
    {
     "name": "stdout",
     "output_type": "stream",
     "text": [
      "hello world\n"
     ]
    }
   ],
   "source": [
    "print('hello world')"
   ]
  },
  {
   "cell_type": "code",
   "execution_count": 19,
   "id": "a64c81ef-3d56-489f-888d-bf5dbbafb3a4",
   "metadata": {},
   "outputs": [
    {
     "data": {
      "text/plain": [
       "['Genap', 'Ganjil']"
      ]
     },
     "execution_count": 19,
     "metadata": {},
     "output_type": "execute_result"
    }
   ],
   "source": [
    "def cek_ganjil_genap(angka):\n",
    "    result = []\n",
    "    for i in angka:\n",
    "        if i%2==0:\n",
    "            result.append('Genap')\n",
    "        else:\n",
    "            result.append('Ganjil')\n",
    "    return result\n",
    "\n",
    "angka = [2,3]\n",
    "cek_ganjil_genap(angka)"
   ]
  },
  {
   "cell_type": "code",
   "execution_count": 21,
   "id": "a56570dc-9cfb-46c6-b6f2-02070245937c",
   "metadata": {},
   "outputs": [
    {
     "name": "stdout",
     "output_type": "stream",
     "text": [
      "Ganjil\n",
      "Ganjil\n",
      "Genap\n",
      "Ganjil\n",
      "3\n",
      "1\n"
     ]
    }
   ],
   "source": [
    "plat_nomor = ['B 3131 FRT', 'B 2391 FKV', 'B 2930 TTY', 'B 32831 ACYT']\n",
    "ganjil = 0\n",
    "genap = 0\n",
    "\n",
    "for i in plat_nomor:\n",
    "    nopol = i.split()[1]\n",
    "    nomor = int(nopol[-1])\n",
    "\n",
    "    if nomor%2==0:\n",
    "        genap += 1\n",
    "        print('Genap')\n",
    "    else:\n",
    "        ganjil += 1\n",
    "        print('Ganjil')\n",
    "\n",
    "print(ganjil)\n",
    "print(genap)"
   ]
  },
  {
   "cell_type": "code",
   "execution_count": null,
   "id": "498afa44-19bf-4bc2-9b16-a8f9547f6847",
   "metadata": {},
   "outputs": [],
   "source": []
  }
 ],
 "metadata": {
  "kernelspec": {
   "display_name": "Python 3 (ipykernel)",
   "language": "python",
   "name": "python3"
  },
  "language_info": {
   "codemirror_mode": {
    "name": "ipython",
    "version": 3
   },
   "file_extension": ".py",
   "mimetype": "text/x-python",
   "name": "python",
   "nbconvert_exporter": "python",
   "pygments_lexer": "ipython3",
   "version": "3.13.5"
  }
 },
 "nbformat": 4,
 "nbformat_minor": 5
}
